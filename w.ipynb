{
 "cells": [
  {
   "cell_type": "code",
   "execution_count": 1,
   "id": "8e6d5862-b09b-416b-a177-91594563bcfc",
   "metadata": {
    "execution": {
     "iopub.execute_input": "2024-07-06T18:20:59.996288Z",
     "iopub.status.busy": "2024-07-06T18:20:59.995334Z",
     "iopub.status.idle": "2024-07-06T18:21:08.565914Z",
     "shell.execute_reply": "2024-07-06T18:21:08.564785Z",
     "shell.execute_reply.started": "2024-07-06T18:20:59.996252Z"
    },
    "tags": []
   },
   "outputs": [
    {
     "name": "stderr",
     "output_type": "stream",
     "text": [
      "100%|\u001b[32m██████████\u001b[0m| 1/1 [00:00<00:00,  1.38it/s]\n"
     ]
    },
    {
     "name": "stdin",
     "output_type": "stream",
     "text": [
      "Enter current folder name:  1\n"
     ]
    },
    {
     "name": "stdout",
     "output_type": "stream",
     "text": [
      "Data has been processed and saved to final_data.csv\n"
     ]
    }
   ],
   "source": [
    "%run main.py"
   ]
  },
  {
   "cell_type": "code",
   "execution_count": null,
   "id": "b56375bc-e90f-469d-8993-1861f49b83dd",
   "metadata": {},
   "outputs": [],
   "source": []
  }
 ],
 "metadata": {
  "kernelspec": {
   "display_name": "DataSphere Kernel",
   "language": "python",
   "name": "python3"
  },
  "language_info": {
   "codemirror_mode": {
    "name": "ipython",
    "version": 3
   },
   "file_extension": ".py",
   "mimetype": "text/x-python",
   "name": "python",
   "nbconvert_exporter": "python",
   "pygments_lexer": "ipython3",
   "version": "3.10.12"
  }
 },
 "nbformat": 4,
 "nbformat_minor": 5
}
